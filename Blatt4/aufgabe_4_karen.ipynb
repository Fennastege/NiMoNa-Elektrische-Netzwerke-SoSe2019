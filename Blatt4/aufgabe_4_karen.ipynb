{
 "cells": [
  {
   "cell_type": "code",
   "execution_count": 18,
   "metadata": {},
   "outputs": [],
   "source": [
    "import matplotlib.pyplot as plt\n",
    "import numpy as np\n",
    "import matplotlib as mat"
   ]
  },
  {
   "cell_type": "code",
   "execution_count": 2,
   "metadata": {},
   "outputs": [],
   "source": [
    "#erstellt array der Laenge N von zufaelligen Phasen theta\n",
    "def randomTheta(N=50):\n",
    "    return(np.random.random(N)*2*np.pi)\n",
    "\n",
    "#erstellt array der laenge N von zufaelligen Phasen omega verteilt auf cauchy-Verteilung\n",
    "def randomOmega(N=50):                     \n",
    "    return(np.random.standard_cauchy(N)*2*np.pi)"
   ]
  },
  {
   "cell_type": "code",
   "execution_count": 3,
   "metadata": {},
   "outputs": [],
   "source": [
    "#runge-kutta-4 Verfahren \n",
    "def rk4(K,dt,omega,theta):\n",
    "    k1=f(K, omega, theta)\n",
    "    k2=f(K, omega, theta+dt/2*k1)\n",
    "    k3=f(K, omega, theta+dt/2*k2)\n",
    "    k4=f(K, omega, theta+dt*k3)\n",
    "    theta=theta+dt/6*(k1+2*k2+2*k3+k4)\n",
    "    return theta"
   ]
  },
  {
   "cell_type": "code",
   "execution_count": 4,
   "metadata": {},
   "outputs": [],
   "source": [
    "#der Ordnungsparameter gibt den Betrag und die Phase aus\n",
    "def ordnParam(theta):\n",
    "    N=len(theta)\n",
    "    im=0\n",
    "    re=0\n",
    "    for i in theta:\n",
    "        im = im + np.sin(i)/N\n",
    "        re = re + np.cos(i)/N\n",
    "    return(np.sqrt(im**2+re**2), np.arccos(re))\n",
    "    "
   ]
  },
  {
   "cell_type": "code",
   "execution_count": 5,
   "metadata": {},
   "outputs": [],
   "source": [
    "#alle elemente der DGL berechnet mithilfe von Ordnungsparameter. rk4 benötigt diese Funktion zum Berechnen der k's\n",
    "\n",
    "def f(K,omega,theta):\n",
    "    N=len(theta)\n",
    "    func=[]\n",
    "    betrag, phase = ordnParam(theta)\n",
    "    for i in range(0,N):\n",
    "        func.append(omega[i]+K*betrag*np.sin(phase-theta[i]))\n",
    "    return np.array(func)\n",
    "    \n",
    "    "
   ]
  },
  {
   "cell_type": "code",
   "execution_count": 35,
   "metadata": {},
   "outputs": [],
   "source": [
    "def kuramoto(K,Nt,dt,omega,theta):\n",
    "    plt.figure(\"phases\")\n",
    "\n",
    "    l=0\n",
    "    while l<(Nt/dt):\n",
    "        betrag,phase = ordnParam(theta)\n",
    "        #Kreis wird geplottet\n",
    "        an = np.linspace(0,2*np.pi,100)\n",
    "        plt.plot(np.sin(an),np.cos(an))\n",
    "        #titel des plots\n",
    "        plt.title(\"t=\"+str(round(dt*l,2))+\"s\")\n",
    "        #punkte auf kreis\n",
    "        x=plt.plot(np.cos(theta),np.sin(theta),\"o\") \n",
    "        #pfeil\n",
    "        a=plt.arrow(0,0,betrag*np.cos(phase),betrag*np.sin(phase), head_width=0.05)   \n",
    "        #plot quadratisch skalieren\n",
    "        ax = plt.subplot()        \n",
    "        ax.set_aspect(1.0)\n",
    "        \n",
    "        plt.draw()\n",
    "        #speichern\n",
    "        fileName=\"video\\phases_\"+str(l)+\".png\"\n",
    "        plt.savefig(fileName)\n",
    "        \n",
    "        plt.show(block=False)\n",
    "        plt.pause(0.01)\n",
    "        x.pop(0).remove()\n",
    "        a.remove()\n",
    "        theta=rk4(K,dt,omega,theta)\n",
    "        l=l+1\n",
    "        \n",
    "    return\n",
    "    \n",
    "    "
   ]
  },
  {
   "cell_type": "code",
   "execution_count": null,
   "metadata": {},
   "outputs": [],
   "source": [
    "kuramoto(50,15,0.01,randomOmega(),randomTheta())"
   ]
  }
 ],
 "metadata": {
  "kernelspec": {
   "display_name": "Python 3",
   "language": "python",
   "name": "python3"
  },
  "language_info": {
   "codemirror_mode": {
    "name": "ipython",
    "version": 3
   },
   "file_extension": ".py",
   "mimetype": "text/x-python",
   "name": "python",
   "nbconvert_exporter": "python",
   "pygments_lexer": "ipython3",
   "version": "3.7.3"
  }
 },
 "nbformat": 4,
 "nbformat_minor": 2
}
