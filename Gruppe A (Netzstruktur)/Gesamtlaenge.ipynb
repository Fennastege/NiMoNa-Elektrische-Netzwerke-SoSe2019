{
 "cells": [
  {
   "cell_type": "code",
   "execution_count": 6,
   "metadata": {},
   "outputs": [],
   "source": [
    "import numpy as np\n",
    "import matplotlib.pyplot as plt\n",
    "import seaborn as sb"
   ]
  },
  {
   "cell_type": "code",
   "execution_count": null,
   "metadata": {},
   "outputs": [],
   "source": []
  },
  {
   "cell_type": "code",
   "execution_count": null,
   "metadata": {},
   "outputs": [],
   "source": []
  },
  {
   "cell_type": "code",
   "execution_count": 20,
   "metadata": {},
   "outputs": [
    {
     "name": "stdout",
     "output_type": "stream",
     "text": [
      "165.07864568876064\n"
     ]
    }
   ],
   "source": [
    "# Positions- und Adjazenzmatrizen aufrufen\n",
    "posmat=np.load(\"posmat2_h.npy\")\n",
    "adjmat=np.load(\"adjamat2_h.npy\")\n",
    "\n",
    "Einheit = 24/100 # Skala der Karte in km\n",
    "N=len(posmat)\n",
    "\n",
    "Dist = np.ndarray(shape=(N,N))\n",
    "Sum = 0\n",
    "for i in range(N):\n",
    "    for j in range(N):\n",
    "        if (adjmat[i,j]==0):\n",
    "            a = 0\n",
    "        else:\n",
    "            Dist[i,j] = np.sqrt((posmat[j,0] - posmat[i,0])**2 + (posmat[j,1] - posmat[i,1])**2)\n",
    "            a = Dist[i,j]\n",
    "        Sum = Sum + a\n",
    "Laenge = Sum*Einheit\n",
    "\n",
    "print(Laenge) #Gesamtlaenge der benötigten Leitung in km"
   ]
  },
  {
   "cell_type": "code",
   "execution_count": null,
   "metadata": {},
   "outputs": [],
   "source": []
  },
  {
   "cell_type": "code",
   "execution_count": null,
   "metadata": {},
   "outputs": [],
   "source": []
  }
 ],
 "metadata": {
  "kernelspec": {
   "display_name": "Python 3",
   "language": "python",
   "name": "python3"
  },
  "language_info": {
   "codemirror_mode": {
    "name": "ipython",
    "version": 3
   },
   "file_extension": ".py",
   "mimetype": "text/x-python",
   "name": "python",
   "nbconvert_exporter": "python",
   "pygments_lexer": "ipython3",
   "version": "3.6.4"
  }
 },
 "nbformat": 4,
 "nbformat_minor": 2
}
