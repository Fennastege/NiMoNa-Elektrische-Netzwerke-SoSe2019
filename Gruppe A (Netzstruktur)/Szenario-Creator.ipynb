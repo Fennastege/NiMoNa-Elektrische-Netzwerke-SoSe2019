{
 "cells": [
  {
   "cell_type": "markdown",
   "metadata": {},
   "source": [
    "# Erstellen unterschiedlicher Szenarien\n",
    "\n",
    "NiMoLa, SoSe 2019"
   ]
  },
  {
   "cell_type": "code",
   "execution_count": 1,
   "metadata": {},
   "outputs": [],
   "source": [
    "#Importiere mehrere Packages\n",
    "import numpy as np\n",
    "import matplotlib.pyplot as plt\n",
    "import scipy.sparse as sp\n",
    "#für Ordnerstruktur\n",
    "import time \n",
    "import os"
   ]
  },
  {
   "cell_type": "markdown",
   "metadata": {},
   "source": [
    "--------"
   ]
  },
  {
   "cell_type": "markdown",
   "metadata": {},
   "source": [
    "## Kleine Netzwerke"
   ]
  },
  {
   "cell_type": "code",
   "execution_count": 2,
   "metadata": {},
   "outputs": [],
   "source": [
    "#5 Oszillatoren in einer Reihe:\n",
    "\n",
    "adjamat1 = np.ndarray(shape=(5,5))\n",
    "adjamat1 = [[0,1,0,0,0],[1,0,1,0,0],[0,1,0,1,0],[0,0,1,0,1],[0,0,0,1,0]]\n",
    "#np.save(\"adjamat1.npy\",adjamat1)\n",
    "posmat1 = np.ndarray(shape=(5,2))\n",
    "posmat1 = [[10,10],[20,10],[30,10],[40,10],[50,10]]\n",
    "#np.save(\"posmat1.npy\",posmat1)"
   ]
  },
  {
   "cell_type": "code",
   "execution_count": 3,
   "metadata": {},
   "outputs": [],
   "source": [
    "#5 Oszillatoren in einem Pentagon:\n",
    "adjamat1 = np.ndarray(shape=(5,5))\n",
    "adjamat1 = [[0,1,0,0,1],[1,0,1,0,0],[0,1,0,1,0],[0,0,1,0,1],[1,0,0,1,0]]\n",
    "#np.save(\"adjamat2.npy\",adjamat1)\n",
    "posmat1 = np.ndarray(shape=(5,2))\n",
    "posmat1 = [[10,10],[20,10],[20,20],[15,25],[10,20]]\n",
    "#np.save(\"posmat2.npy\",posmat1)"
   ]
  },
  {
   "cell_type": "code",
   "execution_count": null,
   "metadata": {},
   "outputs": [],
   "source": []
  }
 ],
 "metadata": {
  "kernelspec": {
   "display_name": "Python 3",
   "language": "python",
   "name": "python3"
  },
  "language_info": {
   "codemirror_mode": {
    "name": "ipython",
    "version": 3
   },
   "file_extension": ".py",
   "mimetype": "text/x-python",
   "name": "python",
   "nbconvert_exporter": "python",
   "pygments_lexer": "ipython3",
   "version": "3.6.4"
  }
 },
 "nbformat": 4,
 "nbformat_minor": 2
}
