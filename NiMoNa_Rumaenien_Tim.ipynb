{
 "cells": [
  {
   "cell_type": "code",
   "execution_count": 84,
   "metadata": {},
   "outputs": [],
   "source": [
    "#Importiere mehrere (Standard-)Packages\n",
    "import numpy as np\n",
    "import matplotlib.pyplot as plt\n",
    "from uncertainties import ufloat\n",
    "from uncertainties import unumpy\n",
    "from scipy import optimize\n",
    "\n",
    "#NiMoNa-Spezifisch\n",
    "import scipy.sparse as sp\n",
    "\n",
    "\n",
    "#um folgende Packages zu haben, muss man Sachen einfügen (siehe Durchschnittsphysiker-Ordner)\n",
    "#Außerdem installieren:\n",
    "#pip3 install antlr4-python3-runtime\n",
    "from sympy import *\n",
    "from __future__ import division\n",
    "from process_latex import process_sympy\n",
    "\n",
    "\n",
    "#Zum genaueren betrachten der Grafiken:\n",
    "#%matplotlib notebook\n",
    "init_printing() # enable latex ausgabe"
   ]
  },
  {
   "cell_type": "markdown",
   "metadata": {},
   "source": [
    "# Blatt 05 (NiMoNa)"
   ]
  },
  {
   "cell_type": "markdown",
   "metadata": {},
   "source": [
    "## Ziel:\n",
    "\n",
    "Modellierung und Darstellung des Rumänischen Netzes"
   ]
  },
  {
   "cell_type": "markdown",
   "metadata": {},
   "source": [
    "----------"
   ]
  },
  {
   "cell_type": "markdown",
   "metadata": {},
   "source": [
    "### WICHTIG:\n",
    "- theta[0] ist Theta\n",
    "- theta[1] ist Theta-Punkt"
   ]
  },
  {
   "cell_type": "markdown",
   "metadata": {},
   "source": [
    "## Teil 0 - Initialisieren"
   ]
  },
  {
   "cell_type": "code",
   "execution_count": 221,
   "metadata": {},
   "outputs": [],
   "source": [
    "#Feste Zahlen\n",
    "\n",
    "#Anzahl der Oszillatoren\n",
    "N = 88 # aus Adjazenzmatrix\n",
    "\n",
    "#Koppungsstärke (alt, jetzt exisitert Adjazenzmatrix)\n",
    "K = 200\n",
    "\n",
    "#Länge des Zeitintervalls\n",
    "Nt = 1500000\n",
    "\n",
    "output = 1000\n",
    "\n",
    "#Schrittweite in der Zeit\n",
    "dt = 0.01\n",
    "\n",
    "#Faktor vor erster Ableitung\n",
    "alpha = 0.1\n",
    "\n",
    "#Adjazenz-Matrix laden\n",
    "adjazenzmatrix = np.load(\"romAdj.npy\")\n",
    "#adjazenzmatrix = sp.csr_matrix(adjazenzmatrix)\n",
    "\n",
    "#Thetas initialisieren (jeweils mit zwei Einträgen pro Oszillator)\n",
    "theta = np.ndarray(shape=(N,2))\n",
    "#theta = sp.csr_matrix(theta)\n",
    "\n",
    "#Leistung P(j):\n",
    "P = np.array([0.]*N)\n",
    "\n",
    "\n",
    "\n",
    "    #Frequenzen der Oszis (noch aus vereinfachtem Modell)\n",
    "    #omega = np.array([0.0]*N)\n",
    "    #omega = np.random.standard_cauchy(N)"
   ]
  },
  {
   "cell_type": "code",
   "execution_count": 222,
   "metadata": {},
   "outputs": [],
   "source": [
    "#---------------------------\n",
    "#Zufallsverteilungen generieren\n",
    "def initialisieren():\n",
    "    #Phasen des Oszis\n",
    "    #theta = np.array([0.0]*N)\n",
    "    temp_verteilung = np.random.random(N)*np.pi\n",
    "    omega = np.random.standard_cauchy(N)\n",
    "    for i in range(0,N):\n",
    "        theta[i,0] = temp_verteilung[i]\n",
    "        theta[i,1] = 0#omega[i]\n",
    "        \n",
    "    #Leistung festsetzen:\n",
    "    for i in range(0,int(N/2)):\n",
    "        P[i] = 1\n",
    "        P[2*i] = -1\n",
    "        P[2*i +1] = -1\n",
    "    P[N-1] = 1\n",
    "    print(P)\n",
    "    \n",
    "    #überprüfen\n",
    "    summe = 0\n",
    "    for i in range(0,N):\n",
    "        summe = summe + P[i]\n",
    "    print(\"Summe aller P:\",summe)\n",
    "    print(\"Erfolgreich initialisiert\")"
   ]
  },
  {
   "cell_type": "code",
   "execution_count": 223,
   "metadata": {
    "scrolled": true
   },
   "outputs": [
    {
     "name": "stdout",
     "output_type": "stream",
     "text": [
      "[-1.  1.  1.  1.  1.  1.  1.  1.  1.  1.  1.  1.  1.  1.  1.  1.  1.  1.\n",
      "  1.  1.  1.  1.  1.  1.  1.  1.  1.  1.  1.  1.  1.  1.  1.  1.  1.  1.\n",
      "  1.  1.  1.  1.  1.  1.  1.  1. -1. -1. -1. -1. -1. -1. -1. -1. -1. -1.\n",
      " -1. -1. -1. -1. -1. -1. -1. -1. -1. -1. -1. -1. -1. -1. -1. -1. -1. -1.\n",
      " -1. -1. -1. -1. -1. -1. -1. -1. -1. -1. -1. -1. -1. -1. -1.  1.]\n",
      "Summe aller P: 0.0\n",
      "Erfolgreich initialisiert\n"
     ]
    }
   ],
   "source": [
    "initialisieren()"
   ]
  },
  {
   "cell_type": "code",
   "execution_count": 224,
   "metadata": {},
   "outputs": [
    {
     "data": {
      "text/plain": [
       "array([[0., 1., 1., ..., 0., 0., 0.],\n",
       "       [1., 0., 1., ..., 0., 0., 0.],\n",
       "       [1., 1., 0., ..., 0., 0., 0.],\n",
       "       ...,\n",
       "       [0., 0., 0., ..., 0., 1., 0.],\n",
       "       [0., 0., 0., ..., 1., 0., 0.],\n",
       "       [0., 0., 0., ..., 0., 0., 0.]])"
      ]
     },
     "execution_count": 224,
     "metadata": {},
     "output_type": "execute_result"
    }
   ],
   "source": [
    "adjazenzmatrix"
   ]
  },
  {
   "cell_type": "markdown",
   "metadata": {},
   "source": [
    "## Teil 1 - Formeln und Funktionen"
   ]
  },
  {
   "cell_type": "code",
   "execution_count": 225,
   "metadata": {},
   "outputs": [],
   "source": [
    "#Ordnungsparameter bestimmen\n",
    "def ordnung(N,theta):\n",
    "    #bertrachte Imaginärteil und Realteil des Parameters gesondert\n",
    "    tempRe = 0\n",
    "    tempIm = 0\n",
    "    \n",
    "    #Schleife um Summe der Theta zu berechnen\n",
    "    for i in range(0,N):\n",
    "        tempRe = tempRe + np.cos(theta[i,0])\n",
    "        tempIm = tempIm + np.sin(theta[i,0])\n",
    "        \n",
    "    #Normieren um Mittelwert zu bekommen:\n",
    "    tempRe = tempRe / N\n",
    "    tempIm = tempIm / N\n",
    "    \n",
    "    #r und Phi berechnen\n",
    "    r = (tempIm**2 + tempRe**2)**(1/2)\n",
    "    phi = np.arccos(tempRe)\n",
    "    \n",
    "    return r,phi"
   ]
  },
  {
   "cell_type": "code",
   "execution_count": 245,
   "metadata": {},
   "outputs": [],
   "source": [
    "#Kuramoto-Funktionen in 2d:\n",
    "def fkt0(y_n):\n",
    "    #für Theta\n",
    "    return (y_n[1])\n",
    "\n",
    "def fkt1(y_n, j):\n",
    "    #Für Theta-Punkt -> eigentliche Kuramoto-Glg\n",
    "    summe = 0\n",
    "    for i in range(0,N):\n",
    "        summe = summe + adjazenzmatrix[i,j] * np.sin(theta[i,0] - y_n[0])\n",
    "    return P[j] - alpha * y_n[1] - summe\n",
    "\n",
    "#Anwendung von RK4 (für j-ten Oszillator):\n",
    "def kura_alt(y_n,j, schrittbreite):\n",
    "    \n",
    "    h = schrittbreite\n",
    "    \n",
    "    #ks initialisieren\n",
    "    k1 = np.array([0.,0.])\n",
    "    k2 = np.array([0.,0.])\n",
    "    k3 = np.array([0.,0.])\n",
    "    k4 = np.array([0.,0.])\n",
    "\n",
    "    \n",
    "    #Faktoren berechnen\n",
    "    k1[0] = fkt0(y_n)\n",
    "    k1[1] = fkt1(y_n,j)\n",
    "    #print(\"k1 = \", k1)\n",
    "    \n",
    "    k2[0] = fkt0(y_n + h/2 * k1)\n",
    "    k2[1] = fkt1(y_n + h/2 * k1,j)\n",
    "    #print(\"k2 = \", k2)\n",
    "    \n",
    "    k3[0] = fkt0(y_n + h/2 * k2)\n",
    "    k3[1] = fkt1(y_n + h/2 * k2,j)\n",
    "    #print(\"k3 = \", k3)\n",
    "    \n",
    "    k4[0] = fkt0(y_n + h * k3)\n",
    "    k4[1] = fkt1(y_n + h * k3,j)\n",
    "    #print(\"k4 = \", k4)\n",
    "    \n",
    "    #neuen Funktionswert berechnen (2d!)\n",
    "    y_neu = y_n + h/6 * (k1 + 2 * k2 + 2 * k3 + k4)\n",
    "    \n",
    "    return y_neu"
   ]
  },
  {
   "cell_type": "code",
   "execution_count": 246,
   "metadata": {},
   "outputs": [],
   "source": [
    "#schneller!\n",
    "\n",
    "#Kuramoto-Funktionen in 2d:\n",
    "def fkt_vec(y_n, j):\n",
    "    summe = 0\n",
    "    for i in range(0,N):\n",
    "        summe = summe + adjazenzmatrix[i,j] * np.sin(theta[i,0] - y_n[0])\n",
    "    y_neu = y_n\n",
    "    y_neu[0] = y_n[1]\n",
    "    y_neu[1] = P[j] - alpha * y_n[1] - summe\n",
    "    return y_neu\n",
    "\n",
    "#Anwendung von RK4 (für j-ten Oszillator):\n",
    "def kura(y_n,j, h):\n",
    "    #Faktoren berechnen\n",
    "    k1 = fkt_vec(y_n,j)\n",
    "    #print(\"k1 = \", k1)\n",
    "    \n",
    "    k2 = fkt_vec(y_n + h/2 * k1, j)\n",
    "    #print(\"k2 = \", k2)\n",
    "    \n",
    "    k3 = fkt_vec(y_n + h/2 * k2,j)\n",
    "    #print(\"k3 = \", k3)\n",
    "    \n",
    "    k4 = fkt_vec(y_n + h * k3,j)\n",
    "    #print(\"k4 = \", k4)\n",
    "    \n",
    "    #neuen Funktionswert berechnen (2d!)    \n",
    "    return y_n + h/6 * (k1 + 2 * k2 + 2 * k3 + k4)"
   ]
  },
  {
   "cell_type": "markdown",
   "metadata": {},
   "source": [
    "## Teil 2 - Daten"
   ]
  },
  {
   "cell_type": "markdown",
   "metadata": {},
   "source": [
    "## Teil 3 - Hauptzelle(n)"
   ]
  },
  {
   "cell_type": "code",
   "execution_count": 251,
   "metadata": {},
   "outputs": [
    {
     "name": "stdout",
     "output_type": "stream",
     "text": [
      "[-1.  1.  1.  1.  1.  1.  1.  1.  1.  1.  1.  1.  1.  1.  1.  1.  1.  1.\n",
      "  1.  1.  1.  1.  1.  1.  1.  1.  1.  1.  1.  1.  1.  1.  1.  1.  1.  1.\n",
      "  1.  1.  1.  1.  1.  1.  1.  1. -1. -1. -1. -1. -1. -1. -1. -1. -1. -1.\n",
      " -1. -1. -1. -1. -1. -1. -1. -1. -1. -1. -1. -1. -1. -1. -1. -1. -1. -1.\n",
      " -1. -1. -1. -1. -1. -1. -1. -1. -1. -1. -1. -1. -1. -1. -1.  1.]\n",
      "Summe aller P: 0.0\n",
      "Erfolgreich initialisiert\n",
      "1\n",
      "0.3256380145270845\n"
     ]
    },
    {
     "data": {
      "image/png": "[encoded data removed]",
      "text/plain": [
       "<matplotlib.figure.Figure at 0x73e129ceb8>"
      ]
     },
     "metadata": {},
     "output_type": "display_data"
    },
    {
     "data": {
      "text/plain": [
       "<matplotlib.figure.Figure at 0x73e19484e0>"
      ]
     },
     "metadata": {},
     "output_type": "display_data"
    }
   ],
   "source": [
    "#zunächst zurücksetzen\n",
    "initialisieren()\n",
    "\n",
    "#dann berechnen\n",
    "for i in range(0,Nt):\n",
    "    #-------------------------------------------\n",
    "    #RECHNEN\n",
    "\n",
    "    \n",
    "    #Nun alle neuen theta-Werte berechnen\n",
    "    for j in range(0,N):\n",
    "        #Kuramoto-Gleichung in RK-einsetzen für Oszillator j\n",
    "        theta[j] = kura(theta[j],j,dt)\n",
    "    \n",
    "    \n",
    "    #------------------------------------------\n",
    "    #PLOTTEN\n",
    "    if (i%(output/10) == 1): #um ziwschenstand anzuzeigen\n",
    "        print(i)\n",
    "    if (i%output == 1): #um Bilder zu plotten\n",
    "        \n",
    "        fig, axs = plt.subplots(1, 2, figsize=(13, 6)) #erzeugt zwei Bilder nebeneinander\n",
    "        axs[0].plot() #erzeugt plot im ersten Bild\n",
    "        axs[1].plot() #erzeugt plot im zweiten Bild\n",
    "        \n",
    "        \n",
    "        \n",
    "        #Ordnungsparameter berechnen\n",
    "        r, phi = ordnung(N,theta)\n",
    "        print(r)\n",
    "        \n",
    "        #dafür zunächst Variablen basteln:\n",
    "        theta_0 = np.array([1.] * N)\n",
    "        for l in range(0,N):\n",
    "            theta_0[l] = theta[l,0]\n",
    "\n",
    "    \n",
    "        plt.figure(\"phases\")\n",
    "        \n",
    "        #Kreis plotten\n",
    "        an = np.linspace(0,2*np.pi,100)\n",
    "        axs[1].plot(np.sin(an),np.cos(an), color=\"black\")\n",
    "        \n",
    "        #Ordnungsparameter\n",
    "        axs[1].arrow(0,0,r*np.cos(phi),r*np.sin(phi),head_width=0.05, color=\"black\")\n",
    "        \n",
    "        #Oszis auf Kreis\n",
    "        axs[1].plot(np.cos(theta_0),np.sin(theta_0),\"o\", color=\"blue\")\n",
    "        \n",
    "\n",
    "        for l in range(0,N):\n",
    "            \n",
    "            #Verbindungen plotten\n",
    "            for k in range(l,N):\n",
    "                if (adjazenzmatrix[l,k] == 1.):\n",
    "                    x = np.array([position[l,0],position[k,0]])\n",
    "                    y = np.array([position[l,1],position[k,1]])\n",
    "                    axs[0].plot(x,y,\"-\", color=\"black\",linewidth=1.05)\n",
    "            \n",
    "            #synchronisierung checken\n",
    "            if (abs(theta_0[l] - phi) <= 0.1): \n",
    "                axs[0].plot(position[l,0],position[l,1],\"o\", color=\"red\")\n",
    "                axs[1].plot(np.cos(theta_0[l]),np.sin(theta_0[l]),\"o\", color=\"red\")\n",
    "            else:\n",
    "                #sonst Punkt normal plotten\n",
    "                axs[0].plot(position[l,0],position[l,1],\"o\", color=\"blue\") \n",
    "                    \n",
    "\n",
    "        plt.draw()\n",
    "\n",
    "        #Abspeichern der Daten\n",
    "        fileName = \"video/phases_g\"+str(i)+\".png\"\n",
    "        fig.savefig(fileName,dpi=400)\n",
    "        plt.show(block=False)\n",
    "\n",
    "        plt.pause(0.01)"
   ]
  },
  {
   "cell_type": "markdown",
   "metadata": {},
   "source": [
    "## Teil 4 - Probieren"
   ]
  },
  {
   "cell_type": "code",
   "execution_count": 71,
   "metadata": {},
   "outputs": [],
   "source": [
    "b = np.array([1,0])\n",
    "c = np.array([\"eins\",\"drei\"])\n",
    "a = zip(b,c)"
   ]
  },
  {
   "cell_type": "code",
   "execution_count": 72,
   "metadata": {},
   "outputs": [
    {
     "data": {
      "text/plain": [
       "[(1, 'eins'), (0, 'drei')]"
      ]
     },
     "execution_count": 72,
     "metadata": {},
     "output_type": "execute_result"
    }
   ],
   "source": [
    "list(a)"
   ]
  },
  {
   "cell_type": "code",
   "execution_count": 81,
   "metadata": {},
   "outputs": [
    {
     "data": {
      "image/png": "[encoded data removed]",
      "text/plain": [
       "<matplotlib.figure.Figure at 0x73e0f5ba58>"
      ]
     },
     "metadata": {},
     "output_type": "display_data"
    }
   ],
   "source": [
    "for i in range(N):\n",
    "    plt.plot(position[i,0],position[i,1],\".\", color=\"red\")"
   ]
  },
  {
   "cell_type": "code",
   "execution_count": 78,
   "metadata": {},
   "outputs": [
    {
     "data": {
      "text/plain": [
       "array([ 0.7, 20.4])"
      ]
     },
     "execution_count": 78,
     "metadata": {},
     "output_type": "execute_result"
    }
   ],
   "source": [
    "position[0]"
   ]
  },
  {
   "cell_type": "code",
   "execution_count": 231,
   "metadata": {},
   "outputs": [
    {
     "data": {
      "image/png": "[encoded data removed]",
      "text/latex": [
       "$$1.0$$"
      ],
      "text/plain": [
       "1.0"
      ]
     },
     "execution_count": 231,
     "metadata": {},
     "output_type": "execute_result"
    }
   ],
   "source": [
    "adjazenzmatrix[0,1]\n",
    "plt.plot()"
   ]
  },
  {
   "cell_type": "code",
   "execution_count": 208,
   "metadata": {},
   "outputs": [
    {
     "name": "stdout",
     "output_type": "stream",
     "text": [
      "1.0\n"
     ]
    }
   ],
   "source": [
    "ergebnis = sp.csr_matrix(adjazenzmatrix)\n",
    "print(ergebnis[1,0])"
   ]
  },
  {
   "cell_type": "code",
   "execution_count": 205,
   "metadata": {},
   "outputs": [
    {
     "data": {
      "text/plain": [
       "array([1., 0., 1., 1., 0., 0., 0., 0., 0., 0., 0., 0., 1., 0., 0., 0., 0.,\n",
       "       0., 0., 0., 0., 0., 0., 0., 0., 0., 0., 0., 0., 0., 0., 0., 0., 0.,\n",
       "       0., 0., 0., 0., 0., 0., 0., 0., 0., 0., 0., 0., 0., 0., 0., 0., 0.,\n",
       "       0., 0., 0., 0., 0., 0., 0., 0., 0., 0., 0., 0., 0., 0., 0., 0., 0.,\n",
       "       0., 0., 0., 0., 0., 0., 0., 0., 0., 0., 0., 0., 0., 0., 0., 0., 0.,\n",
       "       0., 0., 0.])"
      ]
     },
     "execution_count": 205,
     "metadata": {},
     "output_type": "execute_result"
    }
   ],
   "source": [
    "adjazenzmatrix[1]"
   ]
  },
  {
   "cell_type": "code",
   "execution_count": null,
   "metadata": {},
   "outputs": [],
   "source": []
  }
 ],
 "metadata": {
  "kernelspec": {
   "display_name": "Python 3",
   "language": "python",
   "name": "python3"
  },
  "language_info": {
   "codemirror_mode": {
    "name": "ipython",
    "version": 3
   },
   "file_extension": ".py",
   "mimetype": "text/x-python",
   "name": "python",
   "nbconvert_exporter": "python",
   "pygments_lexer": "ipython3",
   "version": "3.6.4"
  }
 },
 "nbformat": 4,
 "nbformat_minor": 2
}
